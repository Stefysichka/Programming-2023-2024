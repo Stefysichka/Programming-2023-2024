{
 "cells": [
  {
   "cell_type": "code",
   "execution_count": 32,
   "id": "16602227-a734-4391-886e-0676f332c653",
   "metadata": {
    "tags": []
   },
   "outputs": [],
   "source": [
    "#Підключення необхіних бібліотек\n",
    "import matplotlib.pyplot as plt\n",
    "import numpy as np\n",
    "import pandas as pd\n",
    "import ipywidgets as widgets\n",
    "import unittest\n",
    "from IPython.display import display"
   ]
  },
  {
   "cell_type": "code",
   "execution_count": 33,
   "id": "49341356-8d8b-4436-8e7c-82a30f6de6ee",
   "metadata": {
    "tags": []
   },
   "outputs": [],
   "source": [
    "#Клас для обчислення інтегралу\n",
    "class Service:\n",
    "    # Function for integration\n",
    "    # f: calleble function - function\n",
    "    # a: float - left boundary\n",
    "    # b: float - right boundary\n",
    "    # margin: float - error\n",
    "    @staticmethod\n",
    "    def integrate(f, a: float, b:float , margin=0.001):\n",
    "        if a > b:\n",
    "            raise ValueError(\"left bounder must be lower then right\")\n",
    "        area = 0\n",
    "        while (abs(b-a) > margin):\n",
    "            area += margin*f(a+margin/2)\n",
    "            a += margin\n",
    "        return area"
   ]
  },
  {
   "cell_type": "code",
   "execution_count": 34,
   "id": "8216f7db-0cd4-4295-bab2-f03b42b6f0a7",
   "metadata": {
    "tags": []
   },
   "outputs": [],
   "source": [
    "#Клас функції Лагера\n",
    "class Laguerre:\n",
    "    def __init__(self, func, T, beta: int, sigma: int, N: int, epsilon=1e-3):\n",
    "        if beta > sigma:\n",
    "            raise ValueError(\"sigma must be greater than beta\")\n",
    "        self._func = func #: calleble function - function\n",
    "        self.T = T # : float - ceil value for calculating experiment\n",
    "        self.beta = beta #: float - beta for laguerre function\n",
    "        self.sigma = sigma #: float - sigma for laguerre function\n",
    "        self.N = N # int - max power of laguerre function\n",
    "        self.epsilon = epsilon #: float - calculation error\n",
    "        self._recalc()\n",
    "\n",
    "    @property\n",
    "    def func(self):\n",
    "        return self._func\n",
    "\n",
    "    @func.setter\n",
    "    def func(self, value):\n",
    "        print(\"This is read-only value\")\n",
    "\n",
    "    @property\n",
    "    def laguerre_transformation_value(self):\n",
    "        if self._laguerre_transformation_value is None:\n",
    "            self._laguerre_transformation_value = self.laguerre_transformation()\n",
    "        return self._laguerre_transformation_value\n",
    "\n",
    "    @laguerre_transformation_value.setter\n",
    "    def laguerre_transformation_value(self, value):\n",
    "        print(\"This is read-only value\")\n",
    "\n",
    "    @property\n",
    "    def experiment_value(self):\n",
    "        if self._experiment_value is None:\n",
    "            self._experiment_value = self.experiment()\n",
    "        return self._experiment_value\n",
    "\n",
    "    @experiment_value.setter\n",
    "    def experiment_value(self, value):\n",
    "        print(\"This is read-only value\")\n",
    "\n",
    "    @property\n",
    "    def T(self):\n",
    "        return self._T\n",
    "\n",
    "    @T.setter\n",
    "    def T(self, value):\n",
    "        if value <= 0:\n",
    "            raise ValueError(\"T must be positive\")\n",
    "        self._recalc()\n",
    "        self._T = value\n",
    "\n",
    "    @property\n",
    "    def beta(self):\n",
    "        return self._beta\n",
    "\n",
    "    @beta.setter\n",
    "    def beta(self, value):\n",
    "        if value < 0:\n",
    "            raise ValueError(\"Beta must be non-negative\")\n",
    "        self._recalc()\n",
    "        self._beta = value\n",
    "\n",
    "    @property\n",
    "    def sigma(self):\n",
    "        return self._sigma\n",
    "\n",
    "    @sigma.setter\n",
    "    def sigma(self, value):\n",
    "        if value < 0:\n",
    "            raise ValueError(\"Sigma must be non-negative\")\n",
    "        self._recalc()\n",
    "        self._sigma = value\n",
    "\n",
    "    @property\n",
    "    def N(self):\n",
    "        return self._N\n",
    "\n",
    "    @N.setter\n",
    "    def N(self, value):\n",
    "        if value < 1:\n",
    "            raise ValueError(\"N must be at least 1\")\n",
    "        self._recalc()\n",
    "        self._N = value\n",
    "\n",
    "    @property\n",
    "    def epsilon(self):\n",
    "        return self._epsilon\n",
    "\n",
    "    @epsilon.setter\n",
    "    def epsilon(self, value):\n",
    "        if value <= 0:\n",
    "            raise ValueError(\"Epsilon must be positive\")\n",
    "        self._recalc()\n",
    "        self._epsilon = value\n",
    "\n",
    "    def _recalc(self):\n",
    "        self._experiment_value = None\n",
    "        self._laguerre_transformation_value = None\n",
    "\n",
    "    def laguerre_function(self, t, n):\n",
    "        if self.beta < 0 or self.beta > self.sigma or n < 0:\n",
    "            raise ValueError(\"Wrong parameters\")\n",
    "\n",
    "        lpp = np.sqrt(self.sigma)*np.exp(-self.beta*t/2)\n",
    "        lp = np.sqrt(self.sigma)*(1 - self.sigma*t)*np.exp(-self.beta*t/2)\n",
    "\n",
    "        if n == 0:\n",
    "            return lpp\n",
    "        if n == 1:\n",
    "            return lp\n",
    "\n",
    "        for i in range(2, n+1):\n",
    "            temp = lp\n",
    "            lp = (2*i - 1 - self.sigma*t)*lp/i - (i-1)*lpp / i\n",
    "            lpp = temp\n",
    "\n",
    "        return lp\n",
    "\n",
    "    def experiment(self):\n",
    "        t = np.linspace(0, self.T, 1000)\n",
    "        n = range(0, self.N+1)\n",
    "        true_for_all = False\n",
    "        result = 0\n",
    "        for i in t:\n",
    "            for j in n:\n",
    "                if abs(self.laguerre_function(i, j)) < self.epsilon:\n",
    "                    true_for_all = True\n",
    "                else:\n",
    "                    true_for_all = False\n",
    "            if true_for_all:\n",
    "                result = i\n",
    "                break\n",
    "        else:\n",
    "            result = None\n",
    "        if result == None:\n",
    "            raise \"The experiment is failed, there is no T that satisfy condition. You can set bigger max T to check\"\n",
    "        self._experiment_value = result\n",
    "        return result\n",
    "\n",
    "    def laguerre_transformation(self):\n",
    "        to = self.experiment_value\n",
    "        result = [Service.integrate(lambda t: self._func(t)*self.laguerre_function(t, k)\n",
    "                                    * np.exp(-t*(self.sigma-self.beta)), 0, to, self.epsilon) for k in range(self.N+1)]\n",
    "        self._laguerre_transformation_value = result\n",
    "        return result\n",
    "\n",
    "    def reverse_laguerre_transformation(self, t):\n",
    "        sum = 0\n",
    "        for k in range(self.N):\n",
    "            sum += self.laguerre_transformation_value[k] * \\\n",
    "                self.laguerre_function(t, k)\n",
    "        return sum\n"
   ]
  },
  {
   "cell_type": "code",
   "execution_count": 35,
   "id": "7d39bcd2-2632-4562-bd03-c911e067f27e",
   "metadata": {
    "tags": []
   },
   "outputs": [],
   "source": [
    "#Клас для табулювання Лагера (наслідується від попереднього класу)\n",
    "class Laguerre_Tabulator(Laguerre):\n",
    "    def __init__(self, func, T, beta, sigma, N, epsilon):\n",
    "        if beta > sigma:\n",
    "            raise ValueError(\"sigma must be greater than beta\")\n",
    "        super().__init__(func, T, beta, sigma, N, epsilon)\n",
    "\n",
    "    def tabulate_laguerre(self, n, to):\n",
    "        t = np.linspace(1, to, to)\n",
    "        results = self.laguerre_function(t, n)\n",
    "        df = pd.DataFrame({'t': t, 'l(t)': results})\n",
    "        return df\n",
    "\n",
    "    def tabulate_experiment(self):\n",
    "        t = self.experiment_value\n",
    "        lt_values = []\n",
    "        for n in range(0, self.N+1):\n",
    "            lt_values.append(self.laguerre_function(t, n))\n",
    "        cols = {\"t\": [t]*(self.N+1), \"n\": range(0,\n",
    "                                                self.N+1), \"L(t)\": lt_values}\n",
    "\n",
    "        return pd.DataFrame(cols)\n",
    "\n",
    "    def tabulate_laguerre_transformation(self):\n",
    "        transformed = self.laguerre_transformation_value\n",
    "        cols = {\"n\": range(0, self.N+1),\n",
    "                \"transformed\": transformed}\n",
    "        return pd.DataFrame(cols).round(5)\n"
   ]
  },
  {
   "cell_type": "code",
   "execution_count": 36,
   "id": "411387ab-5379-46b2-9d24-525e827d973b",
   "metadata": {
    "tags": []
   },
   "outputs": [],
   "source": [
    "#Клас для візуалізації графіків\n",
    "class Visualize:\n",
    "    @staticmethod\n",
    "    def draw_lauguerre(laguerre_instance, t=None):\n",
    "        if t is None:\n",
    "            t = laguerre_instance.experiment_value\n",
    "        x = np.arange(0, t, 0.01)\n",
    "        fig, ax = plt.subplots()\n",
    "        ax.set_title(r'Laguerre polynomials $L_n$')\n",
    "        for n in np.arange(0, laguerre_instance.N+1):\n",
    "            ax.plot(x, laguerre_instance.laguerre_function(\n",
    "                x, n), label=rf'$L_{n}$')\n",
    "        plt.xlabel('t')\n",
    "        plt.ylabel('L(t)')\n",
    "        plt.title('Plot of Laguerre function')\n",
    "        plt.legend()\n",
    "        plt.grid(True)\n",
    "        plt.show()\n",
    "\n",
    "    @staticmethod\n",
    "    def draw_reverse_transformation(laguerre_instance, a: float, b: float):\n",
    "        if a < 0:\n",
    "            raise ValueError(\"left boundary must be >= 0\")\n",
    "\n",
    "        def reverse_transformation_func(t):\n",
    "            return laguerre_instance.reverse_laguerre_transformation(t)\n",
    "        num = int((b-a)*100)\n",
    "        t_values = np.linspace(a, b, num)\n",
    "        f_y_values = np.vectorize(laguerre_instance.func)(t_values)\n",
    "        f_rlt_y_values = np.vectorize(reverse_transformation_func)(t_values)\n",
    "        plt.plot(t_values, f_y_values, label=f\"Function\")\n",
    "        plt.plot(t_values, f_rlt_y_values,\n",
    "                 label=\"Reverse laguerre transformation\")\n",
    "        plt.xlabel('t')\n",
    "        plt.ylabel('Function Value')\n",
    "        plt.title(f'Plot of {laguerre_instance.func.__name__}')\n",
    "        plt.legend()\n",
    "        plt.grid(True)\n",
    "        plt.show()\n"
   ]
  },
  {
   "cell_type": "code",
   "execution_count": 37,
   "id": "b33f435e-c1da-4397-83f7-a4fcb57c87eb",
   "metadata": {
    "tags": []
   },
   "outputs": [],
   "source": [
    "#Клас віджетів\n",
    "class UI:\n",
    "    def __init__(self, laguerre_instance):\n",
    "        self.laguerre_instance = laguerre_instance\n",
    "        self.laguerre_tabulator_instance = Laguerre_Tabulator(\n",
    "            laguerre_instance.func, laguerre_instance.T, laguerre_instance.beta, laguerre_instance.sigma, laguerre_instance.N, laguerre_instance.epsilon)\n",
    "\n",
    "    def draw_lauguerre(self, N, to, beta, sigma):\n",
    "        self.laguerre_instance.N = N\n",
    "        self.laguerre_instance.beta = beta\n",
    "        self.laguerre_instance.sigma = sigma\n",
    "        Visualize.draw_lauguerre(self.laguerre_instance, to)\n",
    "\n",
    "    def draw_reverse_transformation(self, N, T, beta, sigma, a, b):\n",
    "        self.laguerre_instance.T = T\n",
    "        self.laguerre_instance.N = N\n",
    "        self.laguerre_instance.beta = beta\n",
    "        self.laguerre_instance.sigma = sigma\n",
    "        Visualize.draw_reverse_transformation(self.laguerre_instance, a, b)\n",
    "\n",
    "\n",
    "    def tubulate_experiment(self, N, T, beta, sigma):\n",
    "        self.laguerre_tabulator_instance.T = T\n",
    "        self.laguerre_tabulator_instance.N = N\n",
    "        self.laguerre_tabulator_instance.beta = beta\n",
    "        self.laguerre_tabulator_instance.sigma = sigma\n",
    "        display(self.laguerre_tabulator_instance.tabulate_experiment())\n",
    "\n",
    "    def tabulate_laguerre(self, beta, sigma, to, n):\n",
    "        self.laguerre_tabulator_instance.beta = beta\n",
    "        self.laguerre_tabulator_instance.sigma = sigma\n",
    "        display(self.laguerre_tabulator_instance.tabulate_laguerre(\n",
    "            n, to).set_index(\"t\"))\n",
    "        \n",
    "    def laguerre_func_ui(self):\n",
    "        slider1 = widgets.IntSlider(min=1, max=20, value=1)\n",
    "        slider2 = widgets.IntSlider(min=1, max=100, value=1)\n",
    "        slider3 = widgets.IntSlider(min=1, max=20, value=1)\n",
    "        slider4 = widgets.IntSlider(min=1, max=20, value=1)\n",
    "        widgets.interact(self.draw_lauguerre, N=slider1,\n",
    "                         to=slider2, beta=slider3, sigma=slider4)\n",
    "\n",
    "\n",
    "\n",
    "    def reverse_transformation_ui(self):\n",
    "        slider1 = widgets.IntSlider(min=1, max=20, value=1)\n",
    "        slider2 = widgets.IntSlider(min=100, max=1000, value=100)\n",
    "        slider3 = widgets.IntSlider(min=1, max=20, value=2)\n",
    "        slider4 = widgets.IntSlider(min=1, max=20, value=4)\n",
    "        slider5 = widgets.FloatRangeSlider(\n",
    "            value=[0, 2*np.pi],\n",
    "            min=0,\n",
    "            max=6*np.pi,\n",
    "            step=0.1,\n",
    "        )\n",
    "        widgets.interact(self.draw_reverse_transformation,\n",
    "                         N=slider1, T=slider2, beta=slider3, sigma=slider4, a=slider5.value[0], b=slider5.value[1])\n",
    "\n",
    "    def tubulate_experiment_ui(self):\n",
    "        slider1 = widgets.IntSlider(min=1, max=20, value=1)\n",
    "        slider2 = widgets.IntSlider(min=1, max=1000, value=100)\n",
    "        slider3 = widgets.IntSlider(min=1, max=20, value=2)\n",
    "        slider4 = widgets.IntSlider(min=1, max=20, value=4)\n",
    "        widgets.interact(self.tubulate_experiment, N=slider1,\n",
    "                         T=slider2, beta=slider3, sigma=slider4)\n",
    "\n",
    "    def tabulate_laguerre_ui(self):\n",
    "        slider1 = widgets.IntSlider(min=1, max=20, value=1)\n",
    "        slider3 = widgets.IntSlider(min=1, max=20, value=2)\n",
    "        slider4 = widgets.IntSlider(min=1, max=20, value=4)\n",
    "        slider5 = widgets.IntSlider(min=1, max=100, value=100)\n",
    "        widgets.interact(self.tabulate_laguerre, n=slider1,\n",
    "                         beta=slider3, sigma=slider4, to=slider5)\n"
   ]
  },
  {
   "cell_type": "code",
   "execution_count": 39,
   "id": "011dac5c-eb1e-436d-a84a-eae4fbc440ae",
   "metadata": {
    "tags": []
   },
   "outputs": [],
   "source": [
    "#Unit тестування\n",
    "class Tests(unittest.TestCase):\n",
    "    # Default test of integration\n",
    "    def test_integration_equal(self):\n",
    "        result = Service.integrate(lambda x: x**2, 0, 4)\n",
    "        self.assertAlmostEqual(result, 21.333333333, places=4)\n",
    "\n",
    "    # Test if calculiation rigth\n",
    "    def test_integration_not_equal(self):\n",
    "        result = Service.integrate(lambda x: x**2-2, 0, 8)\n",
    "        self.assertNotAlmostEqual(result, 15.66666666, places=4)\n",
    "\n",
    "    # Test a>b\n",
    "    def test_integration_boundaries(self):\n",
    "        with self.assertRaises(ValueError):\n",
    "            Service.integrate(lambda x: x**2-2, -2, -6)\n",
    "\n",
    "    # Test Laguerre constructor\n",
    "    def test_constructor(self):\n",
    "        # Test beta validator\n",
    "        with self.assertRaises(ValueError):\n",
    "            Laguerre(func_stefa, 100, -1, 4, 20, 0.001)\n",
    "\n",
    "        # Test beta < sigma\n",
    "        with self.assertRaises(ValueError):\n",
    "            Laguerre(func_stefa, 100, 4, 2, 20, 0.001)\n",
    "\n",
    "        # Test epsilon <= 0\n",
    "        with self.assertRaises(ValueError):\n",
    "            Laguerre(func_stefa, 100, 4, 2, 20, 0)\n",
    "\n",
    "    def test_solve_polynomial(self):\n",
    "        laguerre_instance = Laguerre(func_stefa, 100, 2, 4, 20, 0.001)\n",
    "\n",
    "        # Test laguerre function\n",
    "        result = laguerre_instance.laguerre_function(2, 2)\n",
    "        self.assertAlmostEqual(result, 4.601399630044832, places=4)\n",
    "\n",
    "        # Test n < 0\n",
    "        with self.assertRaises(ValueError):\n",
    "            laguerre_instance.laguerre_function(2, -1)\n",
    "\n",
    "    # Test experiment\n",
    "    def test_experiment(self):\n",
    "        laguerre_instance = Laguerre(func_stefa, 100, 2, 4, 20, 0.001)\n",
    "        result = laguerre_instance.experiment()\n",
    "        self.assertAlmostEqual(result, 79.079079, places=4)\n",
    "\n",
    "    # Test reverse laguerre transformation\n",
    "    def test_reverse_transformation(self):\n",
    "        laguerre_instance = Laguerre(func_stefa, 1000, 2, 4, 10, 0.001)\n",
    "        result = laguerre_instance.reverse_laguerre_transformation(5)\n",
    "        self.assertAlmostEqual(result, 0.6395240276904012, places=4)\n",
    "\n",
    "    # Test tabulate experiment\n",
    "    def test_experiment_tabulation(self):\n",
    "        tabulator_instance = Laguerre_Tabulator(\n",
    "            func_stefa, 200, 2, 4, 15, 0.001)\n",
    "        self.assertAlmostEqual(tabulator_instance.tabulate_experiment()[\n",
    "                               't'][0], 61.26126126126127, places=4)\n",
    "        self.assertAlmostEqual(tabulator_instance.tabulate_experiment()[\n",
    "            'L(t)'][15], -9.835768e-04, places=4)\n",
    "\n",
    "    # Test tabulate laguerre\n",
    "    def test_experiment_tabulation(self):\n",
    "        tabulator_instance = Laguerre_Tabulator(\n",
    "            func_stefa, 200, 2, 4, 15, 0.001)\n",
    "        self.assertAlmostEqual(tabulator_instance.tabulate_laguerre(4, 10)[\n",
    "                               \"l(t)\"][1], -2.616482, places=4)\n",
    "        self.assertAlmostEqual(tabulator_instance.tabulate_laguerre(4, 10)[\n",
    "                               \"t\"][3], 4.0, places=4)\n"
   ]
  },
  {
   "cell_type": "code",
   "execution_count": 40,
   "id": "e428615e-f9d8-4468-80f4-3aa9f103de50",
   "metadata": {
    "tags": []
   },
   "outputs": [],
   "source": [
    "#Моя додаткова функція \n",
    "def func_stefa(t: float):\n",
    "    if t >= 0 and t <= 2*np.pi:\n",
    "        return -1/200*np.sin(t)*np.e**t\n",
    "    else:\n",
    "        return 0"
   ]
  },
  {
   "cell_type": "code",
   "execution_count": 41,
   "id": "af84a43a-9c15-4e78-a1d5-d48c1401f7a7",
   "metadata": {
    "tags": []
   },
   "outputs": [
    {
     "data": {
      "image/png": "[encoded data removed]",
      "text/plain": [
       "<Figure size 640x480 with 1 Axes>"
      ]
     },
     "metadata": {},
     "output_type": "display_data"
    }
   ],
   "source": [
    "Visualize.draw_reverse_transformation(Laguerre(func_stefa, 100, 2, 4, 20, 0.001), 0, 2*np.pi)"
   ]
  },
  {
   "cell_type": "code",
   "execution_count": 42,
   "id": "b6e01d25-6936-46c6-ae79-f3dde99f61bd",
   "metadata": {
    "tags": []
   },
   "outputs": [
    {
     "data": {
      "application/vnd.jupyter.widget-view+json": {
       "model_id": "f84dbf63b3b94a048da52230c4590dc2",
       "version_major": 2,
       "version_minor": 0
      },
      "text/plain": [
       "interactive(children=(IntSlider(value=1, description='N', max=20, min=1), IntSlider(value=1, description='to',…"
      ]
     },
     "metadata": {},
     "output_type": "display_data"
    }
   ],
   "source": [
    "a = UI(Laguerre(func_stefa, 100, 2, 4, 20, 0.001))\n",
    "a.laguerre_func_ui()"
   ]
  },
  {
   "cell_type": "code",
   "execution_count": 43,
   "id": "13cf6929-1f47-4b31-bd11-2daed0caac46",
   "metadata": {
    "tags": []
   },
   "outputs": [
    {
     "data": {
      "application/vnd.jupyter.widget-view+json": {
       "model_id": "d4a6bf912b0b4613a1c0dde19857a7d1",
       "version_major": 2,
       "version_minor": 0
      },
      "text/plain": [
       "interactive(children=(IntSlider(value=1, description='N', max=20, min=1), IntSlider(value=100, description='T'…"
      ]
     },
     "metadata": {},
     "output_type": "display_data"
    }
   ],
   "source": [
    "a.reverse_transformation_ui()"
   ]
  },
  {
   "cell_type": "code",
   "execution_count": 44,
   "id": "e8aa243a-46a2-478e-a403-981541d83a4c",
   "metadata": {
    "tags": []
   },
   "outputs": [
    {
     "data": {
      "application/vnd.jupyter.widget-view+json": {
       "model_id": "0a2b1791c9ce48beaca4406fcc858108",
       "version_major": 2,
       "version_minor": 0
      },
      "text/plain": [
       "interactive(children=(IntSlider(value=1, description='N', max=20, min=1), IntSlider(value=100, description='T'…"
      ]
     },
     "metadata": {},
     "output_type": "display_data"
    }
   ],
   "source": [
    "a.tubulate_experiment_ui()"
   ]
  },
  {
   "cell_type": "code",
   "execution_count": 45,
   "id": "eec2fe2d-ce95-4425-b7de-f5aac42269d8",
   "metadata": {
    "tags": []
   },
   "outputs": [
    {
     "data": {
      "application/vnd.jupyter.widget-view+json": {
       "model_id": "ae2a643bca8c4259a2e192d71b4208b9",
       "version_major": 2,
       "version_minor": 0
      },
      "text/plain": [
       "interactive(children=(IntSlider(value=2, description='beta', max=20, min=1), IntSlider(value=4, description='s…"
      ]
     },
     "metadata": {},
     "output_type": "display_data"
    }
   ],
   "source": [
    "a.tabulate_laguerre_ui()"
   ]
  },
  {
   "cell_type": "code",
   "execution_count": 46,
   "id": "a6dc8df9-e2fb-4c07-91de-10bec9a97002",
   "metadata": {
    "tags": []
   },
   "outputs": [
    {
     "name": "stderr",
     "output_type": "stream",
     "text": [
      "test_constructor (__main__.Tests.test_constructor) ... ok\n",
      "test_experiment (__main__.Tests.test_experiment) ... ok\n",
      "test_experiment_tabulation (__main__.Tests.test_experiment_tabulation) ... ok\n",
      "test_integration_boundaries (__main__.Tests.test_integration_boundaries) ... ok\n",
      "test_integration_equal (__main__.Tests.test_integration_equal) ... ok\n",
      "test_integration_not_equal (__main__.Tests.test_integration_not_equal) ... ok\n",
      "test_reverse_transformation (__main__.Tests.test_reverse_transformation) ... ok\n",
      "test_solve_polynomial (__main__.Tests.test_solve_polynomial) ... ok\n",
      "\n",
      "----------------------------------------------------------------------\n",
      "Ran 8 tests in 20.911s\n",
      "\n",
      "OK\n"
     ]
    },
    {
     "data": {
      "text/plain": [
       "<unittest.main.TestProgram at 0x14d3b145090>"
      ]
     },
     "execution_count": 46,
     "metadata": {},
     "output_type": "execute_result"
    }
   ],
   "source": [
    "#Результати тестів\n",
    "unittest.main(argv=[''], verbosity=3, exit=False)"
   ]
  }
 ],
 "metadata": {
  "kernelspec": {
   "display_name": "Python 3 (ipykernel)",
   "language": "python",
   "name": "python3"
  },
  "language_info": {
   "codemirror_mode": {
    "name": "ipython",
    "version": 3
   },
   "file_extension": ".py",
   "mimetype": "text/x-python",
   "name": "python",
   "nbconvert_exporter": "python",
   "pygments_lexer": "ipython3",
   "version": "3.11.4"
  }
 },
 "nbformat": 4,
 "nbformat_minor": 5
}
